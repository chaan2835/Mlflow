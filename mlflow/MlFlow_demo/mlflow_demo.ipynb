{
 "cells": [
  {
   "cell_type": "code",
   "execution_count": 2,
   "id": "1ca4285c",
   "metadata": {},
   "outputs": [],
   "source": [
    "import os\n",
    "import shutil\n",
    "import pprint\n",
    "\n",
    "from random import random, randint\n",
    "import mlflow.sklearn\n",
    "from mlflow import log_metric, log_param, log_artifacts\n",
    "from sklearn.ensemble import RandomForestRegressor\n",
    "from mlflow.tracking import MlflowClient\n",
    "import warnings"
   ]
  },
  {
   "cell_type": "code",
   "execution_count": 7,
   "id": "1b50b9ba",
   "metadata": {},
   "outputs": [
    {
     "data": {
      "text/html": [
       "<div>\n",
       "<style scoped>\n",
       "    .dataframe tbody tr th:only-of-type {\n",
       "        vertical-align: middle;\n",
       "    }\n",
       "\n",
       "    .dataframe tbody tr th {\n",
       "        vertical-align: top;\n",
       "    }\n",
       "\n",
       "    .dataframe thead th {\n",
       "        text-align: right;\n",
       "    }\n",
       "</style>\n",
       "<table border=\"1\" class=\"dataframe\">\n",
       "  <thead>\n",
       "    <tr style=\"text-align: right;\">\n",
       "      <th></th>\n",
       "      <th>age</th>\n",
       "      <th>sex</th>\n",
       "      <th>cp</th>\n",
       "      <th>trestbps</th>\n",
       "      <th>chol</th>\n",
       "      <th>fbs</th>\n",
       "      <th>restecg</th>\n",
       "      <th>thalach</th>\n",
       "      <th>exang</th>\n",
       "      <th>oldpeak</th>\n",
       "      <th>slope</th>\n",
       "      <th>ca</th>\n",
       "      <th>thal</th>\n",
       "      <th>target</th>\n",
       "    </tr>\n",
       "  </thead>\n",
       "  <tbody>\n",
       "    <tr>\n",
       "      <th>0</th>\n",
       "      <td>63</td>\n",
       "      <td>1</td>\n",
       "      <td>3</td>\n",
       "      <td>145</td>\n",
       "      <td>233</td>\n",
       "      <td>1</td>\n",
       "      <td>0</td>\n",
       "      <td>150</td>\n",
       "      <td>0</td>\n",
       "      <td>2.3</td>\n",
       "      <td>0</td>\n",
       "      <td>0</td>\n",
       "      <td>1</td>\n",
       "      <td>1</td>\n",
       "    </tr>\n",
       "    <tr>\n",
       "      <th>1</th>\n",
       "      <td>37</td>\n",
       "      <td>1</td>\n",
       "      <td>2</td>\n",
       "      <td>130</td>\n",
       "      <td>250</td>\n",
       "      <td>0</td>\n",
       "      <td>1</td>\n",
       "      <td>187</td>\n",
       "      <td>0</td>\n",
       "      <td>3.5</td>\n",
       "      <td>0</td>\n",
       "      <td>0</td>\n",
       "      <td>2</td>\n",
       "      <td>1</td>\n",
       "    </tr>\n",
       "    <tr>\n",
       "      <th>2</th>\n",
       "      <td>41</td>\n",
       "      <td>0</td>\n",
       "      <td>1</td>\n",
       "      <td>130</td>\n",
       "      <td>204</td>\n",
       "      <td>0</td>\n",
       "      <td>0</td>\n",
       "      <td>172</td>\n",
       "      <td>0</td>\n",
       "      <td>1.4</td>\n",
       "      <td>2</td>\n",
       "      <td>0</td>\n",
       "      <td>2</td>\n",
       "      <td>1</td>\n",
       "    </tr>\n",
       "    <tr>\n",
       "      <th>3</th>\n",
       "      <td>56</td>\n",
       "      <td>1</td>\n",
       "      <td>1</td>\n",
       "      <td>120</td>\n",
       "      <td>236</td>\n",
       "      <td>0</td>\n",
       "      <td>1</td>\n",
       "      <td>178</td>\n",
       "      <td>0</td>\n",
       "      <td>0.8</td>\n",
       "      <td>2</td>\n",
       "      <td>0</td>\n",
       "      <td>2</td>\n",
       "      <td>1</td>\n",
       "    </tr>\n",
       "    <tr>\n",
       "      <th>4</th>\n",
       "      <td>57</td>\n",
       "      <td>0</td>\n",
       "      <td>0</td>\n",
       "      <td>120</td>\n",
       "      <td>354</td>\n",
       "      <td>0</td>\n",
       "      <td>1</td>\n",
       "      <td>163</td>\n",
       "      <td>1</td>\n",
       "      <td>0.6</td>\n",
       "      <td>2</td>\n",
       "      <td>0</td>\n",
       "      <td>2</td>\n",
       "      <td>1</td>\n",
       "    </tr>\n",
       "  </tbody>\n",
       "</table>\n",
       "</div>"
      ],
      "text/plain": [
       "   age  sex  cp  trestbps  chol  fbs  restecg  thalach  exang  oldpeak  slope  \\\n",
       "0   63    1   3       145   233    1        0      150      0      2.3      0   \n",
       "1   37    1   2       130   250    0        1      187      0      3.5      0   \n",
       "2   41    0   1       130   204    0        0      172      0      1.4      2   \n",
       "3   56    1   1       120   236    0        1      178      0      0.8      2   \n",
       "4   57    0   0       120   354    0        1      163      1      0.6      2   \n",
       "\n",
       "   ca  thal  target  \n",
       "0   0     1       1  \n",
       "1   0     2       1  \n",
       "2   0     2       1  \n",
       "3   0     2       1  \n",
       "4   0     2       1  "
      ]
     },
     "execution_count": 7,
     "metadata": {},
     "output_type": "execute_result"
    }
   ],
   "source": [
    "import pandas as pd\n",
    "data = pd.read_csv(r'D:\\mlops\\Mlflow\\mlflow\\data\\heart.csv')\n",
    "data.head()"
   ]
  },
  {
   "cell_type": "code",
   "execution_count": 23,
   "id": "a59da3f8",
   "metadata": {},
   "outputs": [
    {
     "name": "stderr",
     "output_type": "stream",
     "text": [
      "2025/07/13 15:52:30 WARNING mlflow.models.model: `artifact_path` is deprecated. Please use `name` instead.\n"
     ]
    },
    {
     "name": "stdout",
     "output_type": "stream",
     "text": [
      "Model Accuracy: 0.8360655737704918\n",
      "F1 Score: 0.8360655737704918\n",
      "Precision: 0.8360655737704918\n"
     ]
    },
    {
     "name": "stderr",
     "output_type": "stream",
     "text": [
      "2025/07/13 15:52:36 WARNING mlflow.models.model: Model logged without a signature and input example. Please set `input_example` parameter when logging the model to auto infer the model signature.\n",
      "2025/07/13 15:52:36 WARNING mlflow.models.model: `artifact_path` is deprecated. Please use `name` instead.\n",
      "2025/07/13 15:52:40 WARNING mlflow.models.model: Model logged without a signature and input example. Please set `input_example` parameter when logging the model to auto infer the model signature.\n"
     ]
    },
    {
     "name": "stdout",
     "output_type": "stream",
     "text": [
      "Model and metrics logged to MLflow\n",
      "Run ID: f53be9ea83ae49f1802842a294358d2f\n",
      "Accuracy: 0.8361,precision: 0.8361, f1_score: 0.8361\n"
     ]
    }
   ],
   "source": [
    "import mlflow.sklearn\n",
    "import pandas as pd\n",
    "from sklearn.model_selection import train_test_split\n",
    "from sklearn.ensemble import RandomForestRegressor\n",
    "from sklearn.metrics import mean_squared_error, mean_absolute_error, r2_score\n",
    "import mlflow\n",
    "from sklearn.ensemble import RandomForestClassifier\n",
    "import mlflow.sklearn\n",
    "\n",
    "# 1. Load the dataset\n",
    "data = pd.read_csv(r'D:\\mlops\\Mlflow\\mlflow\\data\\heart.csv')\n",
    "\n",
    "# 2. Split into features and target\n",
    "X = data.drop('target', axis=1)  # Make sure 'target' is your output column\n",
    "y = data['target']\n",
    "\n",
    "# 3. Train-test split\n",
    "X_train, X_test, y_train, y_test = train_test_split(X, y, test_size=0.2, random_state=42)\n",
    "\n",
    "# 4. MLflow experiment setup\n",
    "mlflow.set_experiment(\"heart-disease-model-prediction\")\n",
    "\n",
    "# 5. Train model\n",
    "n_estimators=2\n",
    "random_state=30\n",
    "max_depth = 1\n",
    "\n",
    "# Use RandomForestClassifier for classification\n",
    "\n",
    "model = RandomForestClassifier(n_estimators=n_estimators, random_state=random_state, max_depth=max_depth)\n",
    "model.fit(X_test,y_test)\n",
    "\n",
    "\n",
    "# 6. Predict\n",
    "y_pred = model.predict(X_test)\n",
    "\n",
    "# 7. Evaluate with regression metrics\n",
    "accuracy = model.score(X_test, y_test)\n",
    "f1 = model.score(X_test, y_test)\n",
    "precision = model.score(X_test, y_test)\n",
    "\n",
    "# 8. Print metrics\n",
    "print(\"Model Accuracy:\", accuracy)\n",
    "print(\"F1 Score:\", f1)  \n",
    "print(\"Precision:\", precision) \n",
    "\n",
    "\n",
    "#9 Log the model and metrics to MLflow\n",
    "mlflow.set_experiment(\"heart-disease-model-prediction\")\n",
    "\n",
    "with mlflow.start_run():   \n",
    "    mlflow.sklearn.log_model(model, \"model\")\n",
    "    mlflow.log_param(\"n_estimators\", n_estimators)\n",
    "    mlflow.log_param(\"random_state\", random_state)     \n",
    "    mlflow.log_param(\"max_depth\", max_depth)\n",
    "    mlflow.log_metric(\"accuracy\", accuracy)\n",
    "    mlflow.log_metric(\"f1_score\", f1)\n",
    "    mlflow.log_metric(\"precision\", precision)\n",
    "    mlflow.sklearn.log_model(model, \"random_forest_classifier\")\n",
    "    print(\"Model and metrics logged to MLflow\")\n",
    "    print(\"Run ID:\", mlflow.active_run().info.run_id)\n",
    "    print(f\"Accuracy: {accuracy:.4f},precision: {precision:.4f}, f1_score: {f1:.4f}\")\n",
    "\n",
    "\n",
    "\n"
   ]
  },
  {
   "cell_type": "code",
   "execution_count": 25,
   "id": "09900043",
   "metadata": {},
   "outputs": [
    {
     "name": "stderr",
     "output_type": "stream",
     "text": [
      "2025/07/13 16:07:11 INFO mlflow.tracking.fluent: Experiment with name 'heart-disease-decision-tree' does not exist. Creating a new experiment.\n",
      "2025/07/13 16:07:11 WARNING mlflow.models.model: `artifact_path` is deprecated. Please use `name` instead.\n"
     ]
    },
    {
     "name": "stdout",
     "output_type": "stream",
     "text": [
      "Decision Tree Model Accuracy: 0.819672131147541\n"
     ]
    },
    {
     "name": "stderr",
     "output_type": "stream",
     "text": [
      "2025/07/13 16:07:16 WARNING mlflow.models.model: Model logged without a signature and input example. Please set `input_example` parameter when logging the model to auto infer the model signature.\n"
     ]
    },
    {
     "name": "stdout",
     "output_type": "stream",
     "text": [
      "Decision Tree model and metrics logged to MLflow\n",
      "Run ID: 9ae0d48939bc4e35afa51f02091fd61b\n",
      "Accuracy: 0.8197, precision: 0.8361, f1_score: 0.8361\n"
     ]
    }
   ],
   "source": [
    "from sklearn.tree import DecisionTreeClassifier\n",
    "\n",
    "# Set hyperparameters\n",
    "dt_max_depth = 3\n",
    "dt_random_state = 42\n",
    "\n",
    "# Initialize and train the DecisionTreeClassifier\n",
    "dt_model = DecisionTreeClassifier(max_depth=dt_max_depth, random_state=dt_random_state)\n",
    "dt_model.fit(X_train, y_train)\n",
    "\n",
    "# Predict on test set\n",
    "dt_y_pred = dt_model.predict(X_test)\n",
    "\n",
    "# Evaluate metrics\n",
    "dt_accuracy = dt_model.score(X_test, y_test)\n",
    "print(\"Decision Tree Model Accuracy:\", dt_accuracy)\n",
    "\n",
    "# Log model and metrics to MLflow\n",
    "mlflow.set_experiment(\"heart-disease-decision-tree\")\n",
    "\n",
    "with mlflow.start_run():\n",
    "    mlflow.sklearn.log_model(dt_model, \"decision_tree_classifier\")\n",
    "    mlflow.log_param(\"max_depth\", dt_max_depth)\n",
    "    mlflow.log_param(\"random_state\", dt_random_state)\n",
    "    mlflow.log_metric(\"accuracy\", dt_accuracy)\n",
    "    print(\"Decision Tree model and metrics logged to MLflow\")\n",
    "    print(\"Run ID:\", mlflow.active_run().info.run_id)\n",
    "    print(f\"Accuracy: {dt_accuracy:.4f}, precision: {precision:.4f}, f1_score: {f1:.4f}\")\n",
    "    \n"
   ]
  },
  {
   "cell_type": "code",
   "execution_count": 22,
   "id": "23550502",
   "metadata": {},
   "outputs": [
    {
     "name": "stdout",
     "output_type": "stream",
     "text": [
      "MLflow UI started at http://localhost:5000\n"
     ]
    }
   ],
   "source": [
    "import subprocess\n",
    "\n",
    "# Start the MLflow UI (run this in a terminal, not in a notebook cell)\n",
    "# !mlflow ui\n",
    "\n",
    "# If you want to run it from the notebook, use the following:\n",
    "subprocess.Popen([\"mlflow\", \"ui\"])\n",
    "print(\"MLflow UI started at http://localhost:5000\")"
   ]
  }
 ],
 "metadata": {
  "kernelspec": {
   "display_name": "Python 3",
   "language": "python",
   "name": "python3"
  },
  "language_info": {
   "codemirror_mode": {
    "name": "ipython",
    "version": 3
   },
   "file_extension": ".py",
   "mimetype": "text/x-python",
   "name": "python",
   "nbconvert_exporter": "python",
   "pygments_lexer": "ipython3",
   "version": "3.13.5"
  }
 },
 "nbformat": 4,
 "nbformat_minor": 5
}
