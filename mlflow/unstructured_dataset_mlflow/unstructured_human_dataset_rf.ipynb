{
 "cells": [
  {
   "cell_type": "code",
   "execution_count": 2,
   "id": "079415ff",
   "metadata": {},
   "outputs": [
    {
     "name": "stdout",
     "output_type": "stream",
     "text": [
      "Total files found: 202\n"
     ]
    }
   ],
   "source": [
    "import os\n",
    "\n",
    "# Path to the unstructured dataset\n",
    "dataset_path = r\"D:\\mlops\\Mlflow\\mlflow\\unstructured_dataset_mlflow\\human\"\n",
    "\n",
    "# List all files and directories in the dataset path\n",
    "files = []\n",
    "for root, dirs, filenames in os.walk(dataset_path):\n",
    "    for filename in filenames:\n",
    "        files.append(os.path.join(root, filename))\n",
    "\n",
    "print(f\"Total files found: {len(files)}\")\n"
   ]
  },
  {
   "cell_type": "code",
   "execution_count": 10,
   "id": "9ae381f5",
   "metadata": {},
   "outputs": [
    {
     "name": "stdout",
     "output_type": "stream",
     "text": [
      "              precision    recall  f1-score   support\n",
      "\n",
      "           0       1.00      1.00      1.00        41\n",
      "\n",
      "    accuracy                           1.00        41\n",
      "   macro avg       1.00      1.00      1.00        41\n",
      "weighted avg       1.00      1.00      1.00        41\n",
      "\n"
     ]
    }
   ],
   "source": [
    "from sklearn.model_selection import train_test_split\n",
    "from sklearn.ensemble import RandomForestClassifier\n",
    "from sklearn.metrics import classification_report\n",
    "from skimage.io import imread\n",
    "from skimage.transform import resize\n",
    "import numpy as np\n",
    "import glob\n",
    "import os\n",
    "\n",
    "# Parameters\n",
    "img_size = (64, 64)\n",
    "n_estimators = 100\n",
    "random_state = 42\n",
    "max_depth = 5\n",
    "\n",
    "# Load image file paths\n",
    "files = glob.glob(r\"D:\\mlops\\Mlflow\\mlflow\\unstructured_dataset_mlflow\\human\\**\\*.jpg\", recursive=True)\n",
    "\n",
    "# Load and process images\n",
    "X = []\n",
    "y = []\n",
    "\n",
    "for file_path in files:\n",
    "    img = imread(file_path)\n",
    "    img_resized = resize(img, img_size, anti_aliasing=True)\n",
    "    X.append(img_resized.flatten())\n",
    "\n",
    "    # Infer label from file name\n",
    "    filename = os.path.basename(file_path).lower()\n",
    "    if filename.startswith(\"rider\"):\n",
    "        y.append(0)\n",
    "    elif filename.startswith(\"walker\"):\n",
    "        y.append(1)\n",
    "    else:\n",
    "        print(f\"⚠️ Skipping unknown file: {file_path}\")\n",
    "        continue\n",
    "\n",
    "\n",
    "X = np.array(X)\n",
    "y = np.array(y)\n",
    "\n",
    "# Split dataset\n",
    "X_train, X_test, y_train, y_test = train_test_split(X, y, test_size=0.2, random_state=random_state)\n",
    "\n",
    "# Train model\n",
    "model = RandomForestClassifier(n_estimators=n_estimators, random_state=random_state, max_depth=max_depth)\n",
    "model.fit(X_train, y_train)\n",
    "\n",
    "# Predict and evaluate\n",
    "y_pred = model.predict(X_test)\n",
    "print(classification_report(y_test, y_pred))\n"
   ]
  },
  {
   "cell_type": "code",
   "execution_count": 11,
   "id": "8abbbae1",
   "metadata": {},
   "outputs": [
    {
     "name": "stderr",
     "output_type": "stream",
     "text": [
      "2025/07/13 17:17:00 INFO mlflow.tracking.fluent: Experiment with name 'unsturctured_human_dataset_rf' does not exist. Creating a new experiment.\n",
      "C:\\Users\\chand\\AppData\\Local\\Packages\\PythonSoftwareFoundation.Python.3.13_qbz5n2kfra8p0\\LocalCache\\local-packages\\Python313\\site-packages\\sklearn\\metrics\\_classification.py:1706: UndefinedMetricWarning: F-score is ill-defined and being set to 0.0 due to no true nor predicted samples. Use `zero_division` parameter to control this behavior.\n",
      "  _warn_prf(average, modifier, f\"{metric.capitalize()} is\", result.shape[0])\n",
      "C:\\Users\\chand\\AppData\\Local\\Packages\\PythonSoftwareFoundation.Python.3.13_qbz5n2kfra8p0\\LocalCache\\local-packages\\Python313\\site-packages\\sklearn\\metrics\\_classification.py:1706: UndefinedMetricWarning: Precision is ill-defined and being set to 0.0 due to no predicted samples. Use `zero_division` parameter to control this behavior.\n",
      "  _warn_prf(average, modifier, f\"{metric.capitalize()} is\", result.shape[0])\n",
      "C:\\Users\\chand\\AppData\\Local\\Packages\\PythonSoftwareFoundation.Python.3.13_qbz5n2kfra8p0\\LocalCache\\local-packages\\Python313\\site-packages\\sklearn\\metrics\\_classification.py:1706: UndefinedMetricWarning: Recall is ill-defined and being set to 0.0 due to no true samples. Use `zero_division` parameter to control this behavior.\n",
      "  _warn_prf(average, modifier, f\"{metric.capitalize()} is\", result.shape[0])\n",
      "2025/07/13 17:17:01 WARNING mlflow.models.model: `artifact_path` is deprecated. Please use `name` instead.\n"
     ]
    },
    {
     "name": "stdout",
     "output_type": "stream",
     "text": [
      "🔍 Classification Report:\n",
      "               precision    recall  f1-score   support\n",
      "\n",
      "           0       1.00      1.00      1.00        41\n",
      "\n",
      "    accuracy                           1.00        41\n",
      "   macro avg       1.00      1.00      1.00        41\n",
      "weighted avg       1.00      1.00      1.00        41\n",
      "\n",
      "✅ Accuracy: 1.0000\n",
      "✅ F1 Score: 0.0000\n",
      "✅ Precision: 0.0000\n",
      "✅ Recall: 0.0000\n"
     ]
    },
    {
     "name": "stderr",
     "output_type": "stream",
     "text": [
      "2025/07/13 17:17:06 WARNING mlflow.models.model: Model logged without a signature and input example. Please set `input_example` parameter when logging the model to auto infer the model signature.\n"
     ]
    },
    {
     "name": "stdout",
     "output_type": "stream",
     "text": [
      "\n",
      "📌 Run ID: 92f07815b89946dca83a1335ca56dc7b\n"
     ]
    }
   ],
   "source": [
    "from sklearn.model_selection import train_test_split\n",
    "from sklearn.ensemble import RandomForestClassifier\n",
    "from sklearn.metrics import classification_report, accuracy_score, precision_score, recall_score, f1_score\n",
    "from skimage.io import imread\n",
    "from skimage.transform import resize\n",
    "import numpy as np\n",
    "import glob\n",
    "import os\n",
    "import mlflow\n",
    "import mlflow.sklearn\n",
    "\n",
    "# Parameters\n",
    "img_size = (64, 64)\n",
    "n_estimators = 100\n",
    "random_state = 42\n",
    "max_depth = 5\n",
    "\n",
    "# Load image file paths\n",
    "files = glob.glob(r\"D:\\mlops\\Mlflow\\mlflow\\unstructured_dataset_mlflow\\human\\**\\*.jpg\", recursive=True)\n",
    "\n",
    "# Load and process images\n",
    "X, y = [], []\n",
    "for file_path in files:\n",
    "    img = imread(file_path)\n",
    "    img_resized = resize(img, img_size, anti_aliasing=True)\n",
    "    X.append(img_resized.flatten())\n",
    "\n",
    "    # Infer label from filename\n",
    "    filename = os.path.basename(file_path).lower()\n",
    "    if filename.startswith(\"rider\"):\n",
    "        y.append(0)\n",
    "    elif filename.startswith(\"walker\"):\n",
    "        y.append(1)\n",
    "    else:\n",
    "        print(f\"⚠️ Skipping unknown file: {file_path}\")\n",
    "\n",
    "X = np.array(X)\n",
    "y = np.array(y)\n",
    "\n",
    "# Split dataset\n",
    "X_train, X_test, y_train, y_test = train_test_split(X, y, test_size=0.2, random_state=random_state)\n",
    "\n",
    "# MLflow experiment setup\n",
    "mlflow.set_experiment(\"unsturctured_human_dataset_rf\")\n",
    "\n",
    "with mlflow.start_run() as run:\n",
    "    # Train model\n",
    "    model = RandomForestClassifier(n_estimators=n_estimators, random_state=random_state, max_depth=max_depth)\n",
    "    model.fit(X_train, y_train)\n",
    "\n",
    "    # Predict and evaluate\n",
    "    y_pred = model.predict(X_test)\n",
    "\n",
    "    # Metrics\n",
    "    acc = accuracy_score(y_test, y_pred)\n",
    "    f1 = f1_score(y_test, y_pred)\n",
    "    precision = precision_score(y_test, y_pred)\n",
    "    recall = recall_score(y_test, y_pred)\n",
    "\n",
    "    print(\"🔍 Classification Report:\\n\", classification_report(y_test, y_pred))\n",
    "    print(f\"✅ Accuracy: {acc:.4f}\")\n",
    "    print(f\"✅ F1 Score: {f1:.4f}\")\n",
    "    print(f\"✅ Precision: {precision:.4f}\")\n",
    "    print(f\"✅ Recall: {recall:.4f}\")\n",
    "\n",
    "    # Log parameters\n",
    "    mlflow.log_param(\"n_estimators\", n_estimators)\n",
    "    mlflow.log_param(\"max_depth\", max_depth)\n",
    "    mlflow.log_param(\"random_state\", random_state)\n",
    "    mlflow.log_param(\"img_size\", img_size)\n",
    "\n",
    "    # Log metrics\n",
    "    mlflow.log_metric(\"accuracy\", acc)\n",
    "    mlflow.log_metric(\"f1_score\", f1)\n",
    "    mlflow.log_metric(\"precision\", precision)\n",
    "    mlflow.log_metric(\"recall\", recall)\n",
    "\n",
    "    # Log model\n",
    "    mlflow.sklearn.log_model(model, \"model\")\n",
    "\n",
    "    # Print Run ID\n",
    "    run_id = run.info.run_id\n",
    "    print(f\"\\n📌 Run ID: {run_id}\")\n"
   ]
  },
  {
   "cell_type": "code",
   "execution_count": 12,
   "id": "5b8ea692",
   "metadata": {},
   "outputs": [
    {
     "name": "stdout",
     "output_type": "stream",
     "text": [
      "MLflow UI started at http://localhost:5000\n"
     ]
    }
   ],
   "source": [
    "import subprocess\n",
    "\n",
    "# Start the MLflow UI (run this in a terminal, not in a notebook cell)\n",
    "# !mlflow ui\n",
    "\n",
    "# If you want to run it from the notebook, use the following:\n",
    "subprocess.Popen([\"mlflow\", \"ui\"])\n",
    "print(\"MLflow UI started at http://localhost:5000\")"
   ]
  }
 ],
 "metadata": {
  "kernelspec": {
   "display_name": "Python 3",
   "language": "python",
   "name": "python3"
  },
  "language_info": {
   "codemirror_mode": {
    "name": "ipython",
    "version": 3
   },
   "file_extension": ".py",
   "mimetype": "text/x-python",
   "name": "python",
   "nbconvert_exporter": "python",
   "pygments_lexer": "ipython3",
   "version": "3.13.5"
  }
 },
 "nbformat": 4,
 "nbformat_minor": 5
}
